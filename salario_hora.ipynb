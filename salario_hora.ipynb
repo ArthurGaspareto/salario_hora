{
 "cells": [
  {
   "cell_type": "code",
   "execution_count": 4,
   "id": "e6fcd6e0-eff9-4ece-ac3f-32792918d22d",
   "metadata": {},
   "outputs": [
    {
     "data": {
      "text/plain": [
       "'\\nPrograma: Soma\\nDescrição: calcule o sal´ario de um professor horista na Universidade XYZ. O programa deve perguntar o n´umero de horas trabalhadas, calcular e imprimir na tela o valor do sal´ario bruto,\\ndo sal´ario l´ıquido e do total de descontos, sabendo que o desconto do imposto ´e 30% e\\nque o valor da hora-aula ´e R$ 40,00.\\nAutor: Arthur Gaspareto\\nData: 25/02/25\\nVersão: 0.0.1\\nNovidades da Versão\\n\\n25/02/2025\\nNesta versão:\\n1.\\n'"
      ]
     },
     "execution_count": 4,
     "metadata": {},
     "output_type": "execute_result"
    }
   ],
   "source": [
    "'''\n",
    "Programa: Soma\n",
    "Descrição: calcule o sal´ario de um professor horista na Universidade XYZ. O programa deve perguntar o n´umero de horas trabalhadas, calcular e imprimir na tela o valor do sal´ario bruto,\n",
    "do sal´ario l´ıquido e do total de descontos, sabendo que o desconto do imposto ´e 30% e\n",
    "que o valor da hora-aula ´e R$ 40,00.\n",
    "Autor: Arthur Gaspareto\n",
    "Data: 25/02/25\n",
    "Versão: 0.0.1\n",
    "Novidades da Versão\n",
    "\n",
    "25/02/2025\n",
    "Nesta versão:\n",
    "1.\n",
    "'''"
   ]
  },
  {
   "cell_type": "code",
   "execution_count": 35,
   "id": "ebca5d25-c7d2-4c06-8b82-a12751c08b77",
   "metadata": {},
   "outputs": [],
   "source": [
    "#Alocação de Memória\n",
    "horas = float()\n",
    "salario_bruto = float()\n",
    "salario_liquido = float()\n",
    "impostos = 0.3\n",
    "descontos = 0\n",
    "valor_hr = 40"
   ]
  },
  {
   "cell_type": "code",
   "execution_count": 45,
   "id": "6f460542-87f4-4347-ade0-106d8aa6f1b8",
   "metadata": {},
   "outputs": [
    {
     "name": "stdin",
     "output_type": "stream",
     "text": [
      "Quantas horas trabalhadas? 40\n"
     ]
    }
   ],
   "source": [
    "#Entrada de Dados\n",
    "\n",
    "horas = float(input('Quantas horas trabalhadas?'))"
   ]
  },
  {
   "cell_type": "code",
   "execution_count": 47,
   "id": "33fdafa6-240d-4fa3-9faa-5b39581d051a",
   "metadata": {},
   "outputs": [],
   "source": [
    "#Processamento de Dados\n",
    "salario_bruto = valor_hr * horas\n",
    "descontos = salario_bruto*impostos\n",
    "salario_liquido = salario_bruto - descontos"
   ]
  },
  {
   "cell_type": "code",
   "execution_count": 49,
   "id": "7b7f02cd-1210-4b8b-a6b4-ec2779e2066f",
   "metadata": {},
   "outputs": [
    {
     "name": "stdout",
     "output_type": "stream",
     "text": [
      "O Salário Bruto é: 1600.0.\n",
      "O Salário Liquido é: 1120.0.\n",
      "O total de desconstos foi: 480.0.\n"
     ]
    }
   ],
   "source": [
    "#Saída de dados\n",
    "\n",
    "print(f'O Salário Bruto é: {salario_bruto}.\\nO Salário Liquido é: {salario_liquido}.\\nO total de desconstos foi: {descontos}.')"
   ]
  },
  {
   "cell_type": "code",
   "execution_count": null,
   "id": "cdda00aa-9dae-481b-bc9a-33d1e9222515",
   "metadata": {},
   "outputs": [],
   "source": []
  }
 ],
 "metadata": {
  "kernelspec": {
   "display_name": "Python 3 (ipykernel)",
   "language": "python",
   "name": "python3"
  },
  "language_info": {
   "codemirror_mode": {
    "name": "ipython",
    "version": 3
   },
   "file_extension": ".py",
   "mimetype": "text/x-python",
   "name": "python",
   "nbconvert_exporter": "python",
   "pygments_lexer": "ipython3",
   "version": "3.12.7"
  }
 },
 "nbformat": 4,
 "nbformat_minor": 5
}
